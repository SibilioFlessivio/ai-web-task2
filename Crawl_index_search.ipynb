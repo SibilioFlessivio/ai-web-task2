{
 "cells": [
  {
   "cell_type": "code",
   "execution_count": 2,
   "metadata": {},
   "outputs": [
    {
     "ename": "LockError",
     "evalue": "",
     "output_type": "error",
     "traceback": [
      "\u001b[1;31m---------------------------------------------------------------------------\u001b[0m",
      "\u001b[1;31mLockError\u001b[0m                                 Traceback (most recent call last)",
      "Cell \u001b[1;32mIn[2], line 11\u001b[0m\n\u001b[0;32m      8\u001b[0m schema \u001b[38;5;241m=\u001b[39m Schema(title_ix\u001b[38;5;241m=\u001b[39mTEXT(stored\u001b[38;5;241m=\u001b[39m\u001b[38;5;28;01mTrue\u001b[39;00m), content_ix\u001b[38;5;241m=\u001b[39mTEXT(stored\u001b[38;5;241m=\u001b[39m\u001b[38;5;28;01mTrue\u001b[39;00m), url_ix\u001b[38;5;241m=\u001b[39mTEXT(stored\u001b[38;5;241m=\u001b[39m\u001b[38;5;28;01mTrue\u001b[39;00m))\n\u001b[0;32m     10\u001b[0m ix \u001b[38;5;241m=\u001b[39m create_in(\u001b[38;5;124m\"\u001b[39m\u001b[38;5;124mindexdirUni\u001b[39m\u001b[38;5;124m\"\u001b[39m, schema)\n\u001b[1;32m---> 11\u001b[0m writer \u001b[38;5;241m=\u001b[39m \u001b[43mix\u001b[49m\u001b[38;5;241;43m.\u001b[39;49m\u001b[43mwriter\u001b[49m\u001b[43m(\u001b[49m\u001b[43m)\u001b[49m\n\u001b[0;32m     13\u001b[0m prefix \u001b[38;5;241m=\u001b[39m \u001b[38;5;124m'\u001b[39m\u001b[38;5;124mhttps://www.uni-osnabrueck.de\u001b[39m\u001b[38;5;124m'\u001b[39m\n\u001b[0;32m     14\u001b[0m start_url \u001b[38;5;241m=\u001b[39m prefix\u001b[38;5;241m+\u001b[39m\u001b[38;5;124m'\u001b[39m\u001b[38;5;124m/startseite/\u001b[39m\u001b[38;5;124m'\u001b[39m\n",
      "File \u001b[1;32mc:\\Users\\auris\\AIWEB2\\task2\\lib\\site-packages\\whoosh\\index.py:464\u001b[0m, in \u001b[0;36mFileIndex.writer\u001b[1;34m(self, procs, **kwargs)\u001b[0m\n\u001b[0;32m    462\u001b[0m \u001b[38;5;28;01melse\u001b[39;00m:\n\u001b[0;32m    463\u001b[0m     \u001b[38;5;28;01mfrom\u001b[39;00m\u001b[38;5;250m \u001b[39m\u001b[38;5;21;01mwhoosh\u001b[39;00m\u001b[38;5;21;01m.\u001b[39;00m\u001b[38;5;21;01mwriting\u001b[39;00m\u001b[38;5;250m \u001b[39m\u001b[38;5;28;01mimport\u001b[39;00m SegmentWriter\n\u001b[1;32m--> 464\u001b[0m     \u001b[38;5;28;01mreturn\u001b[39;00m SegmentWriter(\u001b[38;5;28mself\u001b[39m, \u001b[38;5;241m*\u001b[39m\u001b[38;5;241m*\u001b[39mkwargs)\n",
      "File \u001b[1;32mc:\\Users\\auris\\AIWEB2\\task2\\lib\\site-packages\\whoosh\\writing.py:515\u001b[0m, in \u001b[0;36mSegmentWriter.__init__\u001b[1;34m(self, ix, poolclass, timeout, delay, _lk, limitmb, docbase, codec, compound, **kwargs)\u001b[0m\n\u001b[0;32m    512\u001b[0m     \u001b[38;5;28mself\u001b[39m\u001b[38;5;241m.\u001b[39mwritelock \u001b[38;5;241m=\u001b[39m ix\u001b[38;5;241m.\u001b[39mlock(\u001b[38;5;124m\"\u001b[39m\u001b[38;5;124mWRITELOCK\u001b[39m\u001b[38;5;124m\"\u001b[39m)\n\u001b[0;32m    513\u001b[0m     \u001b[38;5;28;01mif\u001b[39;00m \u001b[38;5;129;01mnot\u001b[39;00m try_for(\u001b[38;5;28mself\u001b[39m\u001b[38;5;241m.\u001b[39mwritelock\u001b[38;5;241m.\u001b[39macquire, timeout\u001b[38;5;241m=\u001b[39mtimeout,\n\u001b[0;32m    514\u001b[0m                    delay\u001b[38;5;241m=\u001b[39mdelay):\n\u001b[1;32m--> 515\u001b[0m         \u001b[38;5;28;01mraise\u001b[39;00m LockError\n\u001b[0;32m    517\u001b[0m \u001b[38;5;28;01mif\u001b[39;00m codec \u001b[38;5;129;01mis\u001b[39;00m \u001b[38;5;28;01mNone\u001b[39;00m:\n\u001b[0;32m    518\u001b[0m     \u001b[38;5;28;01mfrom\u001b[39;00m\u001b[38;5;250m \u001b[39m\u001b[38;5;21;01mwhoosh\u001b[39;00m\u001b[38;5;21;01m.\u001b[39;00m\u001b[38;5;21;01mcodec\u001b[39;00m\u001b[38;5;250m \u001b[39m\u001b[38;5;28;01mimport\u001b[39;00m default_codec\n",
      "\u001b[1;31mLockError\u001b[0m: "
     ]
    }
   ],
   "source": [
    "from whoosh.index import create_in\n",
    "from whoosh.fields import *\n",
    "\n",
    "import requests\n",
    "from bs4 import BeautifulSoup\n",
    "from urllib.parse import urljoin\n",
    "\n",
    "schema = Schema(title_ix=TEXT(stored=True), content_ix=TEXT(stored=True), url_ix=TEXT(stored=True))\n",
    "\n",
    "ix = create_in(\"indexdirUni\", schema)\n",
    "writer = ix.writer()\n",
    "\n",
    "prefix = 'https://www.uni-osnabrueck.de'\n",
    "start_url = prefix+'/startseite/'\n",
    "agenda = [start_url]\n",
    "visited_recently = []\n",
    "headers_v = []\n",
    "\n",
    "\n",
    "while agenda:\n",
    "    url = agenda.pop()\n",
    "    if url not in visited_recently:\n",
    "        visited_recently.append(url)\n",
    "        r = requests.get(url)\n",
    "\n",
    "        if r.status_code == 200:\n",
    "            try:\n",
    "                soup = BeautifulSoup(r.content, 'html.parser')\n",
    "\n",
    "                content = soup.get_text()\n",
    "                writer.add_document(title_ix = soup.title.get_text(strip=True) if soup.title else \"No Title\", content_ix=soup.get_text(), url_ix=url)\n",
    "                \n",
    "                \n",
    "                \n",
    "                \n",
    "                for link in soup.find_all('a'):\n",
    "                    \n",
    "                    href = link.get('href')\n",
    "                    # if the href is a relative link, we need to join it with the base url. If the href is an absolut link the function urljoin will return the href as it is.\n",
    "                    full_url = urljoin(url, href)\n",
    "\n",
    "                    # we dont want to scrape other weppages than the ones that start with the prefix\n",
    "                    if full_url.startswith(prefix):\n",
    "                            agenda.append(full_url)\n",
    "            except:\n",
    "                print(f\"Error processing {url}: {e}\")\n",
    "writer.commit()\n"
   ]
  },
  {
   "cell_type": "code",
   "execution_count": 8,
   "metadata": {},
   "outputs": [
    {
     "name": "stdout",
     "output_type": "stream",
     "text": [
      "Page 6\n",
      "bytes so torn,\n",
      "Lived a quirky platypus and a geeky <b class=\"match term0\">unicorn</b>.\n",
      "Platypus coded, with fins so deft,\n",
      "While <b class=\"match term0\">unicorn</b> debugged, with every breath left.\n",
      "\n",
      "\"Did you know,\" said Plat\n",
      "Page 4\n",
      "Page 4\n",
      "\n",
      "\n",
      "This is Page 4\n",
      "The <b class=\"match term0\">unicorn</b> is a legendary creature that has been described since\n",
      "Page 5\n",
      "This is Page 5\n",
      "In European literature and art, the <b class=\"match term0\">unicorn</b> has for the last thousand years or so been depicted as\n"
     ]
    }
   ],
   "source": [
    "from whoosh.qparser import QueryParser\n",
    "from whoosh.index import create_in\n",
    "from whoosh.fields import *\n",
    "from whoosh.index import open_dir  \n",
    "import requests\n",
    "from bs4 import BeautifulSoup\n",
    "from urllib.parse import urljoin\n",
    "\n",
    "ix = open_dir(\"indexdir\")\n",
    "with ix.searcher() as searcher:\n",
    "    \n",
    "    query = QueryParser(\"content_ix\", ix.schema).parse(\"unicorn\")\n",
    "    results = searcher.search(query)\n",
    "    results.fragmenter.surround = 50\n",
    "    # print all results\n",
    "    for r in results:\n",
    "        print(r[\"title_ix\"])\n",
    "        print(r.highlights(\"content_ix\", top = 1))"
   ]
  },
  {
   "cell_type": "markdown",
   "metadata": {},
   "source": []
  },
  {
   "cell_type": "code",
   "execution_count": 21,
   "metadata": {},
   "outputs": [
    {
     "name": "stdout",
     "output_type": "stream",
     "text": [
      "TITEL:  Page 6\n",
      "Author: ChatGPT-4\n",
      "--------------------------------------\n",
      "\n",
      "\n",
      "\n",
      "Page 6\n",
      "\n",
      "\n",
      "This is Page 6\n",
      "\n",
      "    In a world of pixels and bytes so torn,\n",
      "Lived a quirky platypus and a geeky unicorn.\n",
      "Platypus coded, with fins so deft,\n",
      "While unicorn debugged, with every breath left.\n",
      "\n",
      "\"Did you know,\" said Plat, with a glint in his eye,\n",
      "\"That I'm a mammal that lays eggs, oh my!\"\n",
      "Unicorn chuckled, \"And I've a horn of might,\n",
      "But can't run basic scripts, try as I might.\"\n",
      "\n",
      "Together they ventured, in realms of code and lore,\n",
      "Fixing glitches, and chasing bugs galore.\n",
      "For in this nerdy tale, so uniquely spun,\n",
      "A platypus and unicorn made coding fun!\n",
      "    \n",
      "Author: ChatGPT-4\n",
      "Page 2\n",
      "Page 3\n",
      "Page 7\n",
      "Home Page\n",
      "\n",
      "\n",
      "\n"
     ]
    }
   ],
   "source": [
    "uni_start = 'https://www.uni-osnabrueck.de/'\n",
    "r = requests.get('https://vm009.rz.uos.de/crawl/page6.html')\n",
    "soup = BeautifulSoup(r.content, 'html.parser')\n",
    "print(\"TITEL: \",soup.title.get_text())\n",
    "for text in soup.find_all('p'):\n",
    "    print(text.get_text())\n",
    "print('--------------------------------------')\n",
    "print(soup.get_text())"
   ]
  }
 ],
 "metadata": {
  "kernelspec": {
   "display_name": "task2",
   "language": "python",
   "name": "python3"
  },
  "language_info": {
   "codemirror_mode": {
    "name": "ipython",
    "version": 3
   },
   "file_extension": ".py",
   "mimetype": "text/x-python",
   "name": "python",
   "nbconvert_exporter": "python",
   "pygments_lexer": "ipython3",
   "version": "3.9.19"
  }
 },
 "nbformat": 4,
 "nbformat_minor": 2
}
