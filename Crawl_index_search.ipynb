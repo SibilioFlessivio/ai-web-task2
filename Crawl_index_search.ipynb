{
 "cells": [
  {
   "cell_type": "code",
   "execution_count": 1,
   "metadata": {},
   "outputs": [],
   "source": [
    "from whoosh.index import create_in\n",
    "from whoosh.fields import *\n",
    "\n",
    "import requests\n",
    "from bs4 import BeautifulSoup\n",
    "from urllib.parse import urljoin\n",
    "\n",
    "schema = Schema(title_ix=TEXT(stored=True), content_ix=TEXT(stored=True), url_ix=TEXT(stored=True))\n",
    "\n",
    "ix = create_in(\"indexdir\", schema)\n",
    "writer = ix.writer()\n",
    "\n",
    "prefix = 'https://vm009.rz.uos.de/crawl/'\n",
    "start_url = prefix+'index.html'\n",
    "agenda = [start_url]\n",
    "visited_recently = []\n",
    "headers_v = []\n",
    "\n",
    "\n",
    "while agenda:\n",
    "    url = agenda.pop()\n",
    "    if url not in visited_recently:\n",
    "        visited_recently.append(url)\n",
    "        r = requests.get(url)\n",
    "\n",
    "        if r.status_code == 200:\n",
    "            try:\n",
    "                soup = BeautifulSoup(r.content, 'html.parser')\n",
    "\n",
    "                content = soup.get_text()\n",
    "                writer.add_document(title_ix = soup.title.get_text(strip=True) if soup.title else \"No Title\", content_ix=soup.get_text(), url_ix=url)\n",
    "                \n",
    "                for link in soup.find_all('a'):\n",
    "                    \n",
    "                    href = link.get('href')\n",
    "                    # if the href is a relative link, we need to join it with the base url. If the href is an absolut link the function urljoin will return the href as it is.\n",
    "                    full_url = urljoin(url, href)\n",
    "\n",
    "                    # we dont want to scrape other weppages than the ones that start with the prefix\n",
    "                    if full_url.startswith(prefix):\n",
    "                            agenda.append(full_url)\n",
    "            except:\n",
    "                print(f\"Error processing {url}\")\n",
    "writer.commit()\n"
   ]
  },
  {
   "cell_type": "code",
   "execution_count": 2,
   "metadata": {},
   "outputs": [
    {
     "name": "stdout",
     "output_type": "stream",
     "text": [
      "Page 6\n",
      "bytes so torn,\n",
      "Lived a quirky platypus and a geeky <b class=\"match term0\">unicorn</b>.\n",
      "Platypus coded, with fins so deft,\n",
      "While <b class=\"match term0\">unicorn</b> debugged, with every breath left.\n",
      "\n",
      "\"Did you know,\" said Plat\n",
      "Page 4\n",
      "Page 4\n",
      "\n",
      "\n",
      "This is Page 4\n",
      "The <b class=\"match term0\">unicorn</b> is a legendary creature that has been described since\n",
      "Page 5\n",
      "This is Page 5\n",
      "In European literature and art, the <b class=\"match term0\">unicorn</b> has for the last thousand years or so been depicted as\n"
     ]
    }
   ],
   "source": [
    "from whoosh.qparser import QueryParser\n",
    "from whoosh.index import create_in\n",
    "from whoosh.fields import *\n",
    "from whoosh.index import open_dir  \n",
    "import requests\n",
    "from bs4 import BeautifulSoup\n",
    "from urllib.parse import urljoin\n",
    "\n",
    "ix = open_dir(\"indexdir\")\n",
    "with ix.searcher() as searcher:\n",
    "    \n",
    "    query = QueryParser(\"content_ix\", ix.schema).parse(\"unicorn\")\n",
    "    results = searcher.search(query)\n",
    "    results.fragmenter.surround = 50\n",
    "    # print all results\n",
    "    for r in results:\n",
    "        print(r[\"title_ix\"])\n",
    "        print(r.highlights(\"content_ix\", top = 1))"
   ]
  }
 ],
 "metadata": {
  "kernelspec": {
   "display_name": "task2",
   "language": "python",
   "name": "python3"
  },
  "language_info": {
   "codemirror_mode": {
    "name": "ipython",
    "version": 3
   },
   "file_extension": ".py",
   "mimetype": "text/x-python",
   "name": "python",
   "nbconvert_exporter": "python",
   "pygments_lexer": "ipython3",
   "version": "3.9.19"
  }
 },
 "nbformat": 4,
 "nbformat_minor": 2
}
